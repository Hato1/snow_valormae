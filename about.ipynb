{
  "cells": [
    {
      "cell_type": "raw",
      "metadata": {},
      "source": [
        "---\n",
        "format: html\n",
        "title: \"about\"  # Bio?\n",
        "---"
      ],
      "id": "ecd9549c"
    },
    {
      "cell_type": "markdown",
      "metadata": {},
      "source": [
        "```{css, echo=FALSE}\n",
        ".title {\n",
        "  color: blue;\n",
        "}\n",
        "```\n",
        "\n",
        "\n",
        "<style>\n",
        "  body {\n",
        "  background-image: url(\"snow_about_darker.png\");\n",
        "  background-color: black;\n",
        "  background-size: cover;\n",
        "  background-repeat: no-repeat;\n",
        "}\n",
        "  \n",
        "</style>\n",
        "\n",
        "<font color=\"#FFFFFF\">\n",
        "Snow Valormae is an accomplished guitarist and composer hailing from the beautiful city of Christchurch in Aotearoa New Zealand. With a diverse musical background and a passion for pushing boundaries, Snow's artistic journey has been nothing short of extraordinary.\n",
        "\n",
        "Having graduated from the University of Canterbury, Snow Valormae's musical style is a captivating fusion of various genres, including metal, rock, jazz, and classical. It is this amalgamation of influences that lends her music a truly unique and compelling quality. While Snow possesses the remarkable ability to traverse different musical landscapes, her heart truly lies in composing and performing progressive metal music, as well as arranging jazz compositions.\n",
        "\n",
        "Currently, Snow Valormae is an integral member of the esteemed All Girls Big Band, lending her exceptional guitar skills to their mesmerizing sound. In addition to her collaborative work, Snow is engaged in two exciting projects behind the scenes. She is diligently working on an instrumental progressive metal project that promises to push the boundaries of the genre, and simultaneously exploring the realms of jazz with her talented jazz trio.\n",
        "\n",
        "This website serves as a window into her artistic world, providing a glimpse into her musical endeavors, inspirations, and upcoming projects. Stay tuned for updates, sample her captivating compositions, and witness the evolution of an artist dedicated to pushing the boundaries of musical expression.\n",
        "</font>"
      ],
      "id": "3ec30ae7"
    }
  ],
  "metadata": {
    "kernelspec": {
      "display_name": "Python 3",
      "language": "python",
      "name": "python3"
    }
  },
  "nbformat": 4,
  "nbformat_minor": 5
}